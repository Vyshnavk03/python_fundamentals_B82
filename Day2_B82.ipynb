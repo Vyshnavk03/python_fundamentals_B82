{
 "cells": [
  {
   "cell_type": "code",
   "execution_count": null,
   "id": "e9ab0248",
   "metadata": {},
   "outputs": [],
   "source": [
    "Introduction to python Programming\n"
   ]
  },
  {
   "cell_type": "code",
   "execution_count": null,
   "id": "7f9cc117",
   "metadata": {},
   "outputs": [],
   "source": [
    "understanding the varible in python"
   ]
  },
  {
   "cell_type": "code",
   "execution_count": null,
   "id": "9ad373b5",
   "metadata": {},
   "outputs": [],
   "source": []
  },
  {
   "cell_type": "code",
   "execution_count": 1,
   "id": "fcd1a391",
   "metadata": {},
   "outputs": [],
   "source": [
    "x=2\n",
    "y=3"
   ]
  },
  {
   "cell_type": "code",
   "execution_count": 2,
   "id": "e8aa4de2",
   "metadata": {},
   "outputs": [
    {
     "name": "stdout",
     "output_type": "stream",
     "text": [
      "5\n"
     ]
    }
   ],
   "source": [
    "z=x+y\n",
    "print(z)"
   ]
  },
  {
   "cell_type": "code",
   "execution_count": null,
   "id": "6e5b47f1",
   "metadata": {},
   "outputs": [],
   "source": []
  },
  {
   "cell_type": "code",
   "execution_count": null,
   "id": "19ff33dc",
   "metadata": {},
   "outputs": [],
   "source": [
    "Rule for declearing the variables"
   ]
  },
  {
   "cell_type": "code",
   "execution_count": null,
   "id": "26e2dc5c",
   "metadata": {},
   "outputs": [],
   "source": []
  },
  {
   "cell_type": "code",
   "execution_count": null,
   "id": "1828d8b4",
   "metadata": {},
   "outputs": [],
   "source": [
    "Rule no-1 : no spaces while declarying the variable name\n",
    "    "
   ]
  },
  {
   "cell_type": "code",
   "execution_count": 3,
   "id": "14683f61",
   "metadata": {},
   "outputs": [
    {
     "ename": "SyntaxError",
     "evalue": "invalid syntax (2769530906.py, line 1)",
     "output_type": "error",
     "traceback": [
      "\u001b[1;36m  Cell \u001b[1;32mIn[3], line 1\u001b[1;36m\u001b[0m\n\u001b[1;33m    first name = 'vyshnav'\u001b[0m\n\u001b[1;37m          ^\u001b[0m\n\u001b[1;31mSyntaxError\u001b[0m\u001b[1;31m:\u001b[0m invalid syntax\n"
     ]
    }
   ],
   "source": [
    "first name = 'vyshnav'\n",
    "print(first name)\n"
   ]
  },
  {
   "cell_type": "code",
   "execution_count": 5,
   "id": "bfd9d830",
   "metadata": {},
   "outputs": [
    {
     "name": "stdout",
     "output_type": "stream",
     "text": [
      "vyshnav\n"
     ]
    }
   ],
   "source": [
    "firstname ='vyshnav'\n",
    "print(firstname)"
   ]
  },
  {
   "cell_type": "code",
   "execution_count": null,
   "id": "1f616560",
   "metadata": {},
   "outputs": [],
   "source": []
  },
  {
   "cell_type": "code",
   "execution_count": 6,
   "id": "635d8de8",
   "metadata": {},
   "outputs": [
    {
     "name": "stdout",
     "output_type": "stream",
     "text": [
      "vyshnav\n"
     ]
    }
   ],
   "source": [
    "first_name='vyshnav'\n",
    "print(first_name)"
   ]
  },
  {
   "cell_type": "code",
   "execution_count": null,
   "id": "de0e77ca",
   "metadata": {},
   "outputs": [],
   "source": []
  },
  {
   "cell_type": "code",
   "execution_count": null,
   "id": "82701e41",
   "metadata": {},
   "outputs": [],
   "source": [
    "Rule no-2 :  A variable name should not start with a number "
   ]
  },
  {
   "cell_type": "code",
   "execution_count": null,
   "id": "3861a81c",
   "metadata": {},
   "outputs": [],
   "source": []
  },
  {
   "cell_type": "code",
   "execution_count": 7,
   "id": "4c2cb957",
   "metadata": {},
   "outputs": [
    {
     "ename": "SyntaxError",
     "evalue": "invalid decimal literal (2990860950.py, line 1)",
     "output_type": "error",
     "traceback": [
      "\u001b[1;36m  Cell \u001b[1;32mIn[7], line 1\u001b[1;36m\u001b[0m\n\u001b[1;33m    1name='vyshnav'\u001b[0m\n\u001b[1;37m    ^\u001b[0m\n\u001b[1;31mSyntaxError\u001b[0m\u001b[1;31m:\u001b[0m invalid decimal literal\n"
     ]
    }
   ],
   "source": [
    "1name='vyshnav'\n",
    "print(1name)"
   ]
  },
  {
   "cell_type": "code",
   "execution_count": null,
   "id": "f1ffefc6",
   "metadata": {},
   "outputs": [],
   "source": []
  },
  {
   "cell_type": "code",
   "execution_count": 8,
   "id": "8214904b",
   "metadata": {},
   "outputs": [
    {
     "name": "stdout",
     "output_type": "stream",
     "text": [
      "vyshnav\n"
     ]
    }
   ],
   "source": [
    "name1='vyshnav'\n",
    "print(name1)"
   ]
  },
  {
   "cell_type": "code",
   "execution_count": null,
   "id": "6dbed324",
   "metadata": {},
   "outputs": [],
   "source": []
  },
  {
   "cell_type": "code",
   "execution_count": null,
   "id": "f1ce303e",
   "metadata": {},
   "outputs": [],
   "source": [
    "Rule no-3: A variable name should not contain any special charcters\n",
    "    \n",
    "    ! @ # $ &"
   ]
  },
  {
   "cell_type": "code",
   "execution_count": null,
   "id": "5814192a",
   "metadata": {},
   "outputs": [],
   "source": []
  },
  {
   "cell_type": "code",
   "execution_count": 9,
   "id": "495f6316",
   "metadata": {},
   "outputs": [
    {
     "ename": "SyntaxError",
     "evalue": "invalid syntax (1770540325.py, line 2)",
     "output_type": "error",
     "traceback": [
      "\u001b[1;36m  Cell \u001b[1;32mIn[9], line 2\u001b[1;36m\u001b[0m\n\u001b[1;33m    print(name@)\u001b[0m\n\u001b[1;37m               ^\u001b[0m\n\u001b[1;31mSyntaxError\u001b[0m\u001b[1;31m:\u001b[0m invalid syntax\n"
     ]
    }
   ],
   "source": [
    "name@='vyshnav'\n",
    "print(name@)"
   ]
  },
  {
   "cell_type": "code",
   "execution_count": null,
   "id": "40a9d5e9",
   "metadata": {},
   "outputs": [],
   "source": []
  },
  {
   "cell_type": "code",
   "execution_count": null,
   "id": "e31429cc",
   "metadata": {},
   "outputs": [],
   "source": [
    "Introduction to Datatypes\n",
    "\n",
    "1. Strings====>str\n",
    "2.Number===>integers===>int,floats(decimals)=====>0.1,0.2=====>floats\n",
    "3.list====>list\n",
    "4.tuples=====>tuple\n",
    "5.Dictionaries=====>dict"
   ]
  },
  {
   "cell_type": "code",
   "execution_count": null,
   "id": "0f646daa",
   "metadata": {},
   "outputs": [],
   "source": []
  },
  {
   "cell_type": "code",
   "execution_count": null,
   "id": "4efc87dc",
   "metadata": {},
   "outputs": [],
   "source": [
    "Classification of DataTypes\n",
    "\n",
    "Broadly datatypes are Classified into two different categories\n",
    "\n",
    "1.Mutable datatypes====>which can be able to edit/alter=====>flexiable in nature\n",
    "2.Immutable datatypes====>which we cannot able to edit/alter====>fixed in nature\n"
   ]
  },
  {
   "cell_type": "code",
   "execution_count": null,
   "id": "a405683f",
   "metadata": {},
   "outputs": [],
   "source": []
  },
  {
   "cell_type": "code",
   "execution_count": null,
   "id": "ecd7720b",
   "metadata": {},
   "outputs": [],
   "source": [
    "Introduction to string datatype\n",
    "\n",
    "Defination:- A string is nothing but series of characters declared in quotes.\n",
    "    \n",
    "    Classifaction: Itis an immutable datatypes\n",
    "        \n",
    "        how to define the string===?\n",
    "        \n",
    "        1.single quote\n",
    "        2.double quote"
   ]
  },
  {
   "cell_type": "code",
   "execution_count": null,
   "id": "2af9f04a",
   "metadata": {},
   "outputs": [],
   "source": []
  },
  {
   "cell_type": "code",
   "execution_count": 10,
   "id": "afcb7af8",
   "metadata": {},
   "outputs": [
    {
     "name": "stdout",
     "output_type": "stream",
     "text": [
      "vyshnav\n"
     ]
    }
   ],
   "source": [
    "a='vyshnav' #single quote\n",
    "print(a)"
   ]
  },
  {
   "cell_type": "code",
   "execution_count": null,
   "id": "7a1419f3",
   "metadata": {},
   "outputs": [],
   "source": []
  },
  {
   "cell_type": "code",
   "execution_count": 11,
   "id": "74a17ccb",
   "metadata": {},
   "outputs": [
    {
     "name": "stdout",
     "output_type": "stream",
     "text": [
      "vyshnav\n"
     ]
    }
   ],
   "source": [
    "b='vyshnav'  #double quote\n",
    "print(b)\n"
   ]
  },
  {
   "cell_type": "code",
   "execution_count": null,
   "id": "f3b1f9d6",
   "metadata": {},
   "outputs": [],
   "source": []
  },
  {
   "cell_type": "code",
   "execution_count": null,
   "id": "cb71fdd7",
   "metadata": {},
   "outputs": [],
   "source": [
    "# is used for commenting the lines"
   ]
  },
  {
   "cell_type": "code",
   "execution_count": null,
   "id": "41fa8d2c",
   "metadata": {},
   "outputs": [],
   "source": []
  }
 ],
 "metadata": {
  "kernelspec": {
   "display_name": "Python 3 (ipykernel)",
   "language": "python",
   "name": "python3"
  },
  "language_info": {
   "codemirror_mode": {
    "name": "ipython",
    "version": 3
   },
   "file_extension": ".py",
   "mimetype": "text/x-python",
   "name": "python",
   "nbconvert_exporter": "python",
   "pygments_lexer": "ipython3",
   "version": "3.11.4"
  }
 },
 "nbformat": 4,
 "nbformat_minor": 5
}
